{
 "cells": [
  {
   "cell_type": "code",
   "execution_count": null,
   "id": "2e7408e2",
   "metadata": {
    "colab": {
     "base_uri": "https://localhost:8080/"
    },
    "executionInfo": {
     "elapsed": 18512,
     "status": "ok",
     "timestamp": 1707183680221,
     "user": {
      "displayName": "我英也",
      "userId": "06506566319345566444"
     },
     "user_tz": -540
    },
    "id": "MzcKKqQm0uW3",
    "outputId": "829d83ce-968f-403f-8855-29ce26f6a147"
   },
   "outputs": [],
   "source": [
    "import pickle\n",
    "import os\n",
    "os.getcwd()\n",
    "\n",
    "#htmlを解析しデータを抽出するためのライブラリ\n",
    "from bs4 import BeautifulSoup\n",
    "#httpリクエストを行うためのライブラリ\n",
    "#webページの情報を取得する\n",
    "import requests\n",
    "# 時間稼ぎ用\n",
    "import time\n",
    "\n",
    "import pandas as pd\n",
    "df_all = pd.read_pickle(\"df2001_2023.pkl\")\n",
    "\n",
    "# 血統登録番号カラムを文字列型に変換\n",
    "df_all['血統登録番号'] = df_all['血統登録番号'].astype(str)\n",
    "\n",
    "# 血統登録番号の文字数に応じた処理を関数で定義\n",
    "\n",
    "# 6桁：文字列2000を前に連結\n",
    "# 7桁：文字列200を前に連結\n",
    "# 8桁：文字列20を前に連結\n",
    "\n",
    "def process_blood(x):\n",
    "    if len(x) == 6:\n",
    "        return '2000' + x\n",
    "    elif len(x) == 7:\n",
    "        return '200' + x\n",
    "    elif len(x) == 8:\n",
    "        return '20' + x\n",
    "    else:\n",
    "        return x  # 他のケースでは元の値を返す\n",
    "\n",
    "# '血統登録番号'カラムの値を加工\n",
    "#  applyメソッドは引数へ与えた関数を各値に処理して返す\n",
    "df_all['血統登録番号'] = df_all['血統登録番号'].astype(str).apply(process_blood)\n",
    "\n",
    "#血統登録番号の文字列の長さごとの内容を再確認\n",
    "for i in range(10,11):\n",
    "    invalid_blood_rows = df_all[df_all['血統登録番号'].str.len() == i]\n",
    "    print(f\"{i}文字の内容：{invalid_blood_rows['血統登録番号'].unique()}\")\n",
    "    print(f\"{i}文字の要素の数＜一意＞：{len(invalid_blood_rows['血統登録番号'].unique())}\")\n",
    "    \n",
    "# ユニークな血統登録番号をリストに格納\n",
    "blood_id = df_all['血統登録番号'].unique()\n",
    "#len(blood_id)"
   ]
  },
  {
   "cell_type": "code",
   "execution_count": null,
   "id": "9896cf94",
   "metadata": {
    "colab": {
     "base_uri": "https://localhost:8080/"
    },
    "executionInfo": {
     "elapsed": 18512,
     "status": "ok",
     "timestamp": 1707183680221,
     "user": {
      "displayName": "我英也",
      "userId": "06506566319345566444"
     },
     "user_tz": -540
    },
    "id": "MzcKKqQm0uW3",
    "outputId": "829d83ce-968f-403f-8855-29ce26f6a147"
   },
   "outputs": [],
   "source": [
    "del df_all"
   ]
  },
  {
   "cell_type": "code",
   "execution_count": 19,
   "id": "ed0c4804",
   "metadata": {},
   "outputs": [
    {
     "ename": "NameError",
     "evalue": "name 'Aptitude_data_list' is not defined",
     "output_type": "error",
     "traceback": [
      "\u001b[1;31m---------------------------------------------------------------------------\u001b[0m",
      "\u001b[1;31mNameError\u001b[0m                                 Traceback (most recent call last)",
      "Cell \u001b[1;32mIn[19], line 1\u001b[0m\n\u001b[1;32m----> 1\u001b[0m \u001b[38;5;28;01mdel\u001b[39;00m Aptitude_data_list\n",
      "\u001b[1;31mNameError\u001b[0m: name 'Aptitude_data_list' is not defined"
     ]
    }
   ],
   "source": [
    "del Aptitude_data_list"
   ]
  },
  {
   "cell_type": "code",
   "execution_count": null,
   "id": "MzcKKqQm0uW3",
   "metadata": {
    "colab": {
     "base_uri": "https://localhost:8080/"
    },
    "executionInfo": {
     "elapsed": 18512,
     "status": "ok",
     "timestamp": 1707183680221,
     "user": {
      "displayName": "我英也",
      "userId": "06506566319345566444"
     },
     "user_tz": -540
    },
    "id": "MzcKKqQm0uW3",
    "outputId": "829d83ce-968f-403f-8855-29ce26f6a147"
   },
   "outputs": [],
   "source": [
    "%%time\n",
    "\n",
    "# スクレイピング結果を格納するリスト\n",
    "Aptitude_data_list = []\n",
    "\n",
    "# 血統番号で馬番号をループする\n",
    "for id in blood_id[20001:len(blood_id)+1]:\n",
    "    #len(blood_id+1)\n",
    "\n",
    "    # URLの設定\n",
    "    url = \"https://db.netkeiba.com/horse/\" + id + \"/\"\n",
    "\n",
    "    # HTTPリクエストを行うための準備\n",
    "    response = requests.get(url)\n",
    "\n",
    "    # エンコーディング設定\n",
    "    response.encoding = 'euc-jp'\n",
    "\n",
    "    # HTMLの作成\n",
    "    html = response.text\n",
    "\n",
    "    # BeautifulSoupパーサーの作成\n",
    "    soup = BeautifulSoup(html, \"html.parser\")\n",
    "\n",
    "    # 探したい`<th>`タグのテキストのリスト\n",
    "    search_texts = set(['コース適性', '距離適性', '脚質', '成長', '重馬場'])\n",
    "\n",
    "    # スクレイピング結果を格納するリスト\n",
    "    results = []\n",
    "\n",
    "    # HTML属性の解析および値の抽出\n",
    "    # `<dl class=\"tekisei\">`を見つける\n",
    "    tekisei_dl = soup.find('dl', class_='tekisei')\n",
    "\n",
    "    if tekisei_dl:\n",
    "        # `<dl>`内の`<tr>`タグをループ処理\n",
    "        for tr in tekisei_dl.find_all('tr'):\n",
    "\n",
    "            th = tr.find('th')\n",
    "\n",
    "            if th and th.text in search_texts:\n",
    "\n",
    "                # `<tr>`タグ内の`<td>`タグから`<img>`タグを探す\n",
    "                width_attrs = [img['width'] for img in tr.find_all('img', width=True)]\n",
    "\n",
    "                # 二番目の`width`属性の値を取得して保存\n",
    "                if len(width_attrs) >= 2:\n",
    "                    results.append(width_attrs[1])\n",
    "\n",
    "    Aptitude_data_list.append({id: results})\n",
    "\n",
    "    # 時間稼ぎ\n",
    "    time.sleep(2.2)\n",
    "\n",
    "# 辞書型をpickle形式で保存\n",
    "with open(\"data20001_LAST.pickle\", \"wb\") as f:\n",
    "    pickle.dump(Aptitude_data_list, f)\n",
    "\n",
    "len(Aptitude_data_list)"
   ]
  },
  {
   "cell_type": "code",
   "execution_count": null,
   "id": "998eb9c2",
   "metadata": {},
   "outputs": [],
   "source": [
    "len(Aptitude_data_list)"
   ]
  },
  {
   "cell_type": "code",
   "execution_count": 23,
   "id": "5e38e2fc",
   "metadata": {},
   "outputs": [
    {
     "data": {
      "text/plain": [
       "108830"
      ]
     },
     "execution_count": 23,
     "metadata": {},
     "output_type": "execute_result"
    }
   ],
   "source": [
    "len(blood_id)+1"
   ]
  }
 ],
 "metadata": {
  "accelerator": "GPU",
  "colab": {
   "gpuType": "A100",
   "machine_shape": "hm",
   "provenance": []
  },
  "kernelspec": {
   "display_name": "Python 3 (ipykernel)",
   "language": "python",
   "name": "python3"
  },
  "language_info": {
   "codemirror_mode": {
    "name": "ipython",
    "version": 3
   },
   "file_extension": ".py",
   "mimetype": "text/x-python",
   "name": "python",
   "nbconvert_exporter": "python",
   "pygments_lexer": "ipython3",
   "version": "3.10.9"
  },
  "widgets": {
   "application/vnd.jupyter.widget-state+json": {
    "state": {},
    "version_major": 2,
    "version_minor": 0
   }
  }
 },
 "nbformat": 4,
 "nbformat_minor": 5
}
